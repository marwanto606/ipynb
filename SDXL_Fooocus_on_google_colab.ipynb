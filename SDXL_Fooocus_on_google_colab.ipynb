{
  "cells": [
    {
      "cell_type": "code",
      "execution_count": null,
      "metadata": {
        "id": "VjYy0F2gZIPR"
      },
      "outputs": [],
      "source": [
        "!apt -y update -qq\n",
        "!apt -y install -qq aria2 libgoogle-perftools-dev\n",
        "!pip install pygit2==1.12.2\n",
        "%cd /content\n",
        "!git clone https://github.com/lllyasviel/Fooocus\n",
        "%cd /content/Fooocus\n",
        "#DuchatenAiArt model\n",
        "!aria2c --console-log-level=error -c -x 16 -s 16 -k 1M https://huggingface.co/artmozai/duchaiten-aiart-xl/resolve/main/duchaitenAiartSDXL_v20.safetensors -d /content/Fooocus/models/checkpoints -o duchaitenAiartSDXL_v20.safetensors"
      ]
    },
    {
      "cell_type": "code",
      "source": [
        "!python entry_with_update.py --share"
      ],
      "metadata": {
        "id": "2J6A10RrQeUS"
      },
      "execution_count": null,
      "outputs": []
    }
  ],
  "metadata": {
    "accelerator": "GPU",
    "colab": {
      "gpuType": "T4",
      "provenance": [],
      "private_outputs": true
    },
    "kernelspec": {
      "display_name": "Python 3",
      "name": "python3"
    },
    "language_info": {
      "name": "python"
    }
  },
  "nbformat": 4,
  "nbformat_minor": 0
}