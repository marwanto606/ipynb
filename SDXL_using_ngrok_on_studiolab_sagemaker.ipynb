{
 "cells": [
  {
   "cell_type": "code",
   "execution_count": null,
   "id": "d5759e4e-ff77-458c-a0bb-3757d9cb8da3",
   "metadata": {},
   "outputs": [],
   "source": [
    "%cd /home/studio-lab-user/sagemaker-studiolab-notebooks/\n",
    "\n",
    "!git clone https://github.com/AUTOMATIC1111/stable-diffusion-webui ui\n",
    "!git clone https://github.com/BlafKing/sd-civitai-browser-plus /home/studio-lab-user/sagemaker-studiolab-notebooks/ui/extensions/sd-civitai-browser-plus\n",
    "!git clone https://github.com/deforum-art/deforum-for-automatic1111-webui /home/studio-lab-user/sagemaker-studiolab-notebooks/ui/extensions/deforum-for-automatic1111-webui\n",
    "!git clone https://github.com/AlUlkesh/stable-diffusion-webui-images-browser /home/studio-lab-user/sagemaker-studiolab-notebooks/ui/extensions/stable-diffusion-webui-images-browser\n",
    "!git clone https://github.com/thomasasfk/sd-webui-aspect-ratio-helper /home/studio-lab-user/sagemaker-studiolab-notebooks/ui/extensions/sd-webui-aspect-ratio-helper\n",
    "!git clone https://huggingface.co/embed/negative /home/studio-lab-user/sagemaker-studiolab-notebooks/ui/embeddings/negative\n",
    "\n",
    "!chmod +x /home/studio-lab-user/sagemaker-studiolab-notebooks/ui/extensions/sd-civitai-browser-plus/aria2/lin/aria2\n",
    "!/home/studio-lab-user/sagemaker-studiolab-notebooks/ui/extensions/sd-civitai-browser-plus/aria2/lin/aria2  --console-log-level=error -c -x 16 -s 16 -k 1M https://huggingface.co/ckpt/sdxl_vae/resolve/main/sdxl_vae.safetensors -d /home/studio-lab-user/sagemaker-studiolab-notebooks/ui/models/VAE -o sdxl_vae.vae.safetensors\n",
    "!/home/studio-lab-user/sagemaker-studiolab-notebooks/ui/extensions/sd-civitai-browser-plus/aria2/lin/aria2  --console-log-level=error -c -x 16 -s 16 -k 1M https://huggingface.co/embed/upscale/resolve/main/4x-UltraSharp.pth -d /home/studio-lab-user/sagemaker-studiolab-notebooks/ui/models/ESRGAN -o 4x-UltraSharp.pth\n"
   ]
  },
  {
   "cell_type": "code",
   "execution_count": null,
   "id": "2b94bc73-4bd9-4d8f-b381-39490bd62850",
   "metadata": {},
   "outputs": [],
   "source": [
    "!mkdir -p /tmp/models\n",
    "#DuchaitenAIArt\n",
    "!/home/studio-lab-user/sagemaker-studiolab-notebooks/ui/extensions/sd-civitai-browser-plus/aria2/lin/aria2  --console-log-level=error -c -x 16 -s 16 -k 1M https://huggingface.co/artmozai/duchaiten-aiart-xl/resolve/main/duchaitenAiartSDXL_v20.safetensors -d /tmp/models -o duchaitenAiartSDXL_v20.safetensors\n",
    "\n",
    "#Nijivn7\n",
    "# !/home/studio-lab-user/sagemaker-studiolab-notebooks/ui/extensions/sd-civitai-browser-plus/aria2/lin/aria2  --console-log-level=error -c -x 16 -s 16 -k 1M https://civitai.com/api/download/models/155870 -d /tmp/models -o sdvn7Nijistylexl_v1.safetensors\n",
    "\n",
    "%cd /home/studio-lab-user/sagemaker-studiolab-notebooks/ui"
   ]
  },
  {
   "cell_type": "code",
   "execution_count": null,
   "id": "bc45c62f-ba8a-44a4-939a-193e12422eff",
   "metadata": {
    "tags": []
   },
   "outputs": [],
   "source": [
    "#!git reset --hard\n",
    "!sed -i -e 's/\\[\"sd_model_checkpoint\"\\]/\\[\"sd_model_checkpoint\",\"sd_vae\",\"CLIP_stop_at_last_layers\"\\]/g' /home/studio-lab-user/sagemaker-studiolab-notebooks/ui/modules/shared_options.py\n",
    "key = 'your_ngrok_Authtoken'\n",
    "!python launch.py --xformers --skip-torch-cuda-test --enable-insecure-extension-access --no-half-vae --ckpt-dir \"/tmp/models\" --theme dark --ngrok {key}"
   ]
  }
 ],
 "metadata": {
  "kernelspec": {
   "display_name": "default:Python",
   "language": "python",
   "name": "conda-env-default-py"
  },
  "language_info": {
   "codemirror_mode": {
    "name": "ipython",
    "version": 3
   },
   "file_extension": ".py",
   "mimetype": "text/x-python",
   "name": "python",
   "nbconvert_exporter": "python",
   "pygments_lexer": "ipython3",
   "version": "3.9.16"
  }
 },
 "nbformat": 4,
 "nbformat_minor": 5
}
