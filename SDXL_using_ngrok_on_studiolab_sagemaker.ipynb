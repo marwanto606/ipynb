{
 "cells": [
  {
   "cell_type": "code",
   "execution_count": null,
   "id": "d5759e4e-ff77-458c-a0bb-3757d9cb8da3",
   "metadata": {},
   "outputs": [],
   "source": [
    "%cd /home/studio-lab-user/sagemaker-studiolab-notebooks/\n",
    "\n",
    "!git clone -b v2.6 https://dagshub.com/camenduru/ui\n",
    "!git clone https://github.com/BlafKing/sd-civitai-browser-plus /home/studio-lab-user/sagemaker-studiolab-notebooks/ui/extensions/sd-civitai-browser-plus\n",
    "!git clone https://github.com/deforum-art/deforum-for-automatic1111-webui /home/studio-lab-user/sagemaker-studiolab-notebooks/ui/extensions/deforum-for-automatic1111-webui\n",
    "\n",
    "!wget -O /home/studio-lab-user/sagemaker-studiolab-notebooks/ui/models/Stable-diffusion/duchaitenAiart.safetensors https://civitai.com/api/download/models/136754\n",
    "!wget -O /home/studio-lab-user/sagemaker-studiolab-notebooks/ui/models/VAE/sdxl_vae.vae.safetensors https://huggingface.co/ckpt/sdxl_vae/resolve/main/sdxl_vae.safetensors\n"
   ]
  },
  {
   "cell_type": "code",
   "execution_count": null,
   "id": "bc45c62f-ba8a-44a4-939a-193e12422eff",
   "metadata": {
    "tags": []
   },
   "outputs": [],
   "source": [
    "%cd /home/studio-lab-user/sagemaker-studiolab-notebooks/ui\n",
    "#!git reset --hard\n",
    "!sed -i -e 's/\\[\"sd_model_checkpoint\"\\]/\\[\"sd_model_checkpoint\",\"sd_vae\",\"CLIP_stop_at_last_layers\"\\]/g' /home/studio-lab-user/sagemaker-studiolab-notebooks/ui/modules/shared_options.py\n",
    "key = 'your_ngrok_Authtoken'\n",
    "!python launch.py --xformers --enable-insecure-extension-access --no-half-vae --theme dark --ngrok {key}"
   ]
  },
  {
   "cell_type": "code",
   "execution_count": null,
   "id": "3dc43a59-898e-474b-84ef-7e650881ede3",
   "metadata": {},
   "outputs": [],
   "source": []
  }
 ],
 "metadata": {
  "kernelspec": {
   "display_name": "default:Python",
   "language": "python",
   "name": "conda-env-default-py"
  },
  "language_info": {
   "codemirror_mode": {
    "name": "ipython",
    "version": 3
   },
   "file_extension": ".py",
   "mimetype": "text/x-python",
   "name": "python",
   "nbconvert_exporter": "python",
   "pygments_lexer": "ipython3",
   "version": "3.9.16"
  }
 },
 "nbformat": 4,
 "nbformat_minor": 5
}
