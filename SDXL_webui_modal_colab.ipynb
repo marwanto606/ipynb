{
  "cells": [
    {
      "cell_type": "code",
      "execution_count": null,
      "metadata": {
        "id": "CV_JSomG3zL_"
      },
      "outputs": [],
      "source": [
        "from google.colab import userdata\n",
        "#modal token_id = ak-xxxxxxxxxxxxxxxxxx\n",
        "token_id = userdata.get('token_id')\n",
        "#modal token_secret = as-xxxxxxxxxxxxxxx\n",
        "token_secret = userdata.get('token_secret')\n",
        "\n",
        "!pip install modal\n",
        "!modal token set --token-id {token_id} --token-secret {token_secret}\n",
        "!wget https://gist.githubusercontent.com/marwanto606/a11de41b8bff7e48b84c45e99779c8cb/raw/f4daa78bc521caca2322a89a5102d91931a2df5d/modal_run.py -O /content/run.py\n",
        "!modal run -d -q /content/run.py"
      ]
    }
  ],
  "metadata": {
    "colab": {
      "provenance": [],
      "private_outputs": true
    },
    "kernelspec": {
      "display_name": "Python 3",
      "name": "python3"
    },
    "language_info": {
      "name": "python"
    }
  },
  "nbformat": 4,
  "nbformat_minor": 0
}
